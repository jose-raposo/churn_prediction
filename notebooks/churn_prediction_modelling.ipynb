{
  "cells": [
    {
      "cell_type": "markdown",
      "metadata": {
        "id": "WVNOLXL8-kpK"
      },
      "source": [
        "#Building a Machine Learning supervised Churn detector step "
      ]
    },
    {
      "cell_type": "code",
      "execution_count": 65,
      "metadata": {
        "id": "4PTmIhRL-fBe"
      },
      "outputs": [],
      "source": [
        "import pandas as pd\n",
        "import numpy as np\n",
        "import matplotlib.pyplot as plt\n",
        "import seaborn as sns\n",
        "import joblib\n",
        "\n",
        "from scipy.special import expit, logit\n",
        "from sklearn.preprocessing import StandardScaler, OneHotEncoder\n",
        "from sklearn.decomposition import PCA\n",
        "from sklearn.model_selection import train_test_split, StratifiedKFold, cross_val_score\n",
        "from sklearn.linear_model import LogisticRegression\n",
        "from sklearn.pipeline import Pipeline\n",
        "from sklearn.compose import ColumnTransformer\n",
        "from sklearn.compose import make_column_selector as selector\n",
        "from sklearn.cluster import KMeans\n",
        "from sklearn import metrics as ms\n",
        "\n",
        "import statsmodels.formula.api as smf\n",
        "import matplotlib as mpl\n",
        "\n",
        "# matplotlib params\n",
        "mpl.rcParams['axes.spines.right'] = False\n",
        "mpl.rcParams['axes.spines.top'] = False\n",
        "plt.style.use('seaborn-white')"
      ]
    },
    {
      "cell_type": "markdown",
      "metadata": {
        "id": "YmdxQMcbINH2"
      },
      "source": [
        "#### Payload functions"
      ]
    },
    {
      "cell_type": "code",
      "execution_count": 72,
      "metadata": {
        "id": "1WxiyU37BIy8"
      },
      "outputs": [],
      "source": [
        "# features\n",
        "FEATS = ['gender',\n",
        "          'Partner',\n",
        "          'Dependents',\n",
        "          'TechSupport',\n",
        "          'Contract',\n",
        "          'PaperlessBilling',\n",
        "          'SeniorCitizen',\n",
        "          'tenure',\n",
        "          'TotalCharges']\n",
        "\n",
        "# target\n",
        "TARGET = ['Churn']\n",
        "\n",
        "# handle function for TotalCharges column\n",
        "def handle_strnumber(point):\n",
        "  if type(point) == str:\n",
        "    try:\n",
        "      point = float(point)\n",
        "      return point\n",
        "    except:\n",
        "      return 'dropme'\n",
        "\n",
        "# initial preprocess step with mapping\n",
        "def preprocess(data) -> pd.DataFrame:\n",
        "  X = data.copy()\n",
        "\n",
        "  X['TotalCharges'] = X['TotalCharges'].apply(lambda x: handle_strnumber(x))\n",
        "  X = X[X['TotalCharges'] != 'dropme']\n",
        "  X['TotalCharges'] = X['TotalCharges'].astype(float)\n",
        "\n",
        "  X['gender'] = X['gender'].map({'Male':1, 'Female':0})\n",
        "  X['Partner'] = X['Partner'].map({'Yes':1, 'No':0})\n",
        "  X['Dependents'] = X['Dependents'].map({'Yes':1, 'No':0})\n",
        "  X['TechSupport'] = X['TechSupport'].map({'Yes':1, 'No internet service':0, 'No': -1})\n",
        "  X['Contract'] = X['Contract'].map({'Month-to-month':1, 'Two year':0, 'One year': -1})\n",
        "  X['PaperlessBilling'] = X['PaperlessBilling'].map({'Yes':1, 'No':0})\n",
        "\n",
        "  return X[FEATS], X[TARGET]\n",
        "\n",
        "# KMeans clustering feature engineering labels column\n",
        "def preprocess2(data, pipeline, kmeans, fit = True) -> np.array:\n",
        "  \"\"\"\n",
        "  <Docstring>\n",
        "  Remember to first apply this function with fit param = True\n",
        "  on the training set.\n",
        "  \"\"\"\n",
        "  X = data.copy()\n",
        "  if fit:\n",
        "    scld = pipeline.fit_transform(X)\n",
        "    scld = pd.DataFrame(scld, columns = ['PC1','PC2'])\n",
        "    labels = kmeans.fit_predict(scld)\n",
        "  else:\n",
        "    scld = pipeline.transform(X)\n",
        "    scld = pd.DataFrame(scld, columns = ['PC1','PC2'])\n",
        "    labels = kmeans.predict(scld)\n",
        "  return labels\n",
        "\n",
        "# Standardizing only numeric features\n",
        "def preprocess3(data, scaler, fit = True) -> pd.DataFrame:\n",
        "  X = data.copy()\n",
        "  cols = ['SeniorCitizen','tenure','TotalCharges']\n",
        "\n",
        "  if fit:\n",
        "    numerics = scaler.fit_transform(X[cols].copy())\n",
        "  else:\n",
        "    numerics = scaler.transform(X[cols].copy())\n",
        "  X[cols] = numerics\n",
        "  return X"
      ]
    },
    {
      "cell_type": "code",
      "execution_count": 55,
      "metadata": {
        "colab": {
          "base_uri": "https://localhost:8080/"
        },
        "id": "fbjcxIFy_y9Z",
        "outputId": "c61959b5-cea2-4772-b372-931cf38a0538"
      },
      "outputs": [
        {
          "name": "stderr",
          "output_type": "stream",
          "text": [
            "<ipython-input-55-0683931fa80b>:2: FutureWarning: In a future version of pandas all arguments of DataFrame.drop except for the argument 'labels' will be keyword-only\n",
            "  data = pd.read_csv('data.csv').drop('customerID', 1)\n"
          ]
        }
      ],
      "source": [
        "# loading and separating test set\n",
        "data = pd.read_csv('data.csv').drop('customerID', 1)\n",
        "train, test = data.iloc[:int(data.shape[0]*.7), :], data.iloc[int(data.shape[0]*.7):, :]"
      ]
    },
    {
      "cell_type": "code",
      "execution_count": 56,
      "metadata": {
        "colab": {
          "base_uri": "https://localhost:8080/"
        },
        "id": "XbnXvJPaAe7S",
        "outputId": "0a29dc71-cff4-4eaf-f980-eeb53b9a0683"
      },
      "outputs": [
        {
          "data": {
            "text/plain": [
              "((4922, 9), (4922, 1), (2110, 9), (2110, 1))"
            ]
          },
          "execution_count": 56,
          "metadata": {},
          "output_type": "execute_result"
        }
      ],
      "source": [
        "# preprocessing sanity-check: ok!\n",
        "X, y = preprocess(train)\n",
        "Xtest, ytest = preprocess(test)\n",
        "X.shape, y.shape, Xtest.shape, ytest.shape"
      ]
    },
    {
      "cell_type": "code",
      "execution_count": 57,
      "metadata": {
        "id": "DeidPlLAA71K"
      },
      "outputs": [],
      "source": [
        "# data splitting\n",
        "Xtrain, Xval, ytrain, yval = train_test_split(\n",
        "    X, y, stratify = y,\n",
        "    test_size = .3, random_state = 777\n",
        ")"
      ]
    },
    {
      "cell_type": "markdown",
      "metadata": {
        "id": "IFfemae3CFWz"
      },
      "source": [
        "The validation schema above is really strong in a way that there will be two out of sample model checking:  \n",
        "\n",
        "\n",
        "1.   Validation set outside training validation folds\n",
        "2.   Test set to use as the model final performance ground truth in deployed web app\n",
        "3.   Both random split and temporal validation are present. Remember that I stored the last 30% of dataset respecting temporality to the step above\n",
        "\n",
        "\n"
      ]
    },
    {
      "cell_type": "code",
      "execution_count": 58,
      "metadata": {
        "colab": {
          "base_uri": "https://localhost:8080/"
        },
        "id": "vypOhHWCCAfN",
        "outputId": "5c5fb2c0-3b2d-4d55-e271-77581b441387"
      },
      "outputs": [
        {
          "name": "stdout",
          "output_type": "stream",
          "text": [
            "====================================================================================================\n",
            "Training set size: ((3445, 9), (3445, 1))\n",
            "Validation set size: ((1477, 9), (1477, 1))\n",
            "Out of sample test set size: ((2110, 9), (2110, 1))\n",
            "====================================================================================================\n"
          ]
        }
      ],
      "source": [
        "print(100*'=')\n",
        "print(\n",
        "    f'Training set size: {Xtrain.shape, ytrain.shape}\\nValidation set size: {Xval.shape, yval.shape}\\nOut of sample test set size: {Xtest.shape, ytest.shape}'\n",
        ")\n",
        "print(100*'=')"
      ]
    },
    {
      "cell_type": "markdown",
      "metadata": {
        "id": "wgLqHWHVDefs"
      },
      "source": [
        "###- Creating KMeans feature"
      ]
    },
    {
      "cell_type": "code",
      "execution_count": 73,
      "metadata": {
        "id": "_hmmefotDIsC"
      },
      "outputs": [],
      "source": [
        "# KMEANS CLUSTERING FOR EDA\n",
        "kmeans = KMeans(n_clusters = 2, max_iter = 2000, random_state = 77)\n",
        "\n",
        "# StandardScaler\n",
        "scaler = StandardScaler()\n",
        "pca = PCA(n_components = 2)\n",
        "ohe = OneHotEncoder()\n",
        "wranglers = [scaler, ohe, pca]\n",
        "\n",
        "preprocessor1 = ColumnTransformer(transformers=[\n",
        "    ('scaler', wranglers[0], selector(dtype_exclude=object)),\n",
        "    ('ohe', wranglers[1], selector(dtype_include=object))])\n",
        "\n",
        "pipe1 = Pipeline(steps = [('preprocessor', preprocessor1),\n",
        "                         ('PCA', wranglers[2])])\n",
        "\n",
        "# scaler for preprocess3 below\n",
        "scaler2 = StandardScaler()"
      ]
    },
    {
      "cell_type": "code",
      "execution_count": 74,
      "metadata": {
        "id": "HZVla8W8FaKu"
      },
      "outputs": [],
      "source": [
        "labels_train = preprocess2(Xtrain, pipe1, kmeans, fit = True)\n",
        "labels_val = preprocess2(Xval, pipe1, kmeans, fit = False)\n",
        "labels_test = preprocess2(Xtest, pipe1, kmeans, fit = False)\n",
        "\n",
        "Xtrain['cluster'] = labels_train\n",
        "Xval['cluster'] = labels_val\n",
        "Xtest['cluster'] = labels_test"
      ]
    },
    {
      "cell_type": "code",
      "execution_count": 75,
      "metadata": {
        "colab": {
          "base_uri": "https://localhost:8080/"
        },
        "id": "GiJ6I4YBJNC7",
        "outputId": "ebcceeed-0a12-484c-ef27-af9fe46b36ee"
      },
      "outputs": [
        {
          "data": {
            "text/plain": [
              "Pipeline(steps=[('preprocessor',\n",
              "                 ColumnTransformer(transformers=[('scaler', StandardScaler(),\n",
              "                                                  <sklearn.compose._column_transformer.make_column_selector object at 0x7ff0e507e820>),\n",
              "                                                 ('ohe', OneHotEncoder(),\n",
              "                                                  <sklearn.compose._column_transformer.make_column_selector object at 0x7ff0e507e0d0>)])),\n",
              "                ('PCA', PCA(n_components=2))])"
            ]
          },
          "execution_count": 75,
          "metadata": {},
          "output_type": "execute_result"
        }
      ],
      "source": [
        "pipe1"
      ]
    },
    {
      "cell_type": "code",
      "execution_count": 76,
      "metadata": {
        "colab": {
          "base_uri": "https://localhost:8080/"
        },
        "id": "dka7CXWsI1V0",
        "outputId": "3541fe14-b685-44b6-cb3b-753c624d6a29"
      },
      "outputs": [
        {
          "data": {
            "text/plain": [
              "array([1, 0, 0, ..., 1, 0, 0], dtype=int32)"
            ]
          },
          "execution_count": 76,
          "metadata": {},
          "output_type": "execute_result"
        }
      ],
      "source": [
        "# joblib.dump(pipe1, 'pipeline1.joblib')\n",
        "# joblib.dump(kmeans, 'kmeans.joblib')\n",
        "\n",
        "# sanity-check for correct pipeline1 saving\n",
        "preprocess2(Xtrain, joblib.load('pipeline1.joblib'), joblib.load('kmeans.joblib'), fit = False)"
      ]
    },
    {
      "cell_type": "code",
      "execution_count": 77,
      "metadata": {
        "colab": {
          "base_uri": "https://localhost:8080/"
        },
        "id": "uexEMsPIF6mq",
        "outputId": "cbcd3439-bc49-4c9c-d1bd-04294329e24c"
      },
      "outputs": [
        {
          "name": "stdout",
          "output_type": "stream",
          "text": [
            "====================================================================================================\n",
            "Training set size: ((3445, 10), (3445, 1))\n",
            "Validation set size: ((1477, 10), (1477, 1))\n",
            "Out of sample test set size: ((2110, 10), (2110, 1))\n",
            "====================================================================================================\n"
          ]
        }
      ],
      "source": [
        "print(100*'=')\n",
        "print(\n",
        "    f'Training set size: {Xtrain.shape, ytrain.shape}\\nValidation set size: {Xval.shape, yval.shape}\\nOut of sample test set size: {Xtest.shape, ytest.shape}'\n",
        ")\n",
        "print(100*'=')"
      ]
    },
    {
      "cell_type": "code",
      "execution_count": 79,
      "metadata": {
        "id": "t0qBnBc2Gxfb"
      },
      "outputs": [],
      "source": [
        "Xtrain = preprocess3(Xtrain, scaler2)\n",
        "# joblib.dump(scaler2, 'scaler_numerics.joblib')\n",
        "\n",
        "Xval = preprocess3(Xval, joblib.load('scaler_numerics.joblib'))\n",
        "Xtest = preprocess3(Xtest, joblib.load('scaler_numerics.joblib'))"
      ]
    },
    {
      "cell_type": "code",
      "execution_count": 85,
      "metadata": {
        "colab": {
          "base_uri": "https://localhost:8080/",
          "height": 143
        },
        "id": "5ba5Xjj3H21n",
        "outputId": "43d1d74c-43ba-4861-d748-f36233a215cb"
      },
      "outputs": [
        {
          "data": {
            "text/html": [
              "\n",
              "  <div id=\"df-c479e39c-5c4c-40ec-ad07-e19312e71c42\">\n",
              "    <div class=\"colab-df-container\">\n",
              "      <div>\n",
              "<style scoped>\n",
              "    .dataframe tbody tr th:only-of-type {\n",
              "        vertical-align: middle;\n",
              "    }\n",
              "\n",
              "    .dataframe tbody tr th {\n",
              "        vertical-align: top;\n",
              "    }\n",
              "\n",
              "    .dataframe thead th {\n",
              "        text-align: right;\n",
              "    }\n",
              "</style>\n",
              "<table border=\"1\" class=\"dataframe\">\n",
              "  <thead>\n",
              "    <tr style=\"text-align: right;\">\n",
              "      <th></th>\n",
              "      <th>gender</th>\n",
              "      <th>Partner</th>\n",
              "      <th>Dependents</th>\n",
              "      <th>TechSupport</th>\n",
              "      <th>Contract</th>\n",
              "      <th>PaperlessBilling</th>\n",
              "      <th>SeniorCitizen</th>\n",
              "      <th>tenure</th>\n",
              "      <th>TotalCharges</th>\n",
              "      <th>cluster</th>\n",
              "    </tr>\n",
              "  </thead>\n",
              "  <tbody>\n",
              "    <tr>\n",
              "      <th>104</th>\n",
              "      <td>1</td>\n",
              "      <td>1</td>\n",
              "      <td>0</td>\n",
              "      <td>1</td>\n",
              "      <td>0</td>\n",
              "      <td>1</td>\n",
              "      <td>-0.436342</td>\n",
              "      <td>1.452213</td>\n",
              "      <td>2.365029</td>\n",
              "      <td>0</td>\n",
              "    </tr>\n",
              "    <tr>\n",
              "      <th>3999</th>\n",
              "      <td>0</td>\n",
              "      <td>0</td>\n",
              "      <td>0</td>\n",
              "      <td>-1</td>\n",
              "      <td>1</td>\n",
              "      <td>1</td>\n",
              "      <td>2.291783</td>\n",
              "      <td>-1.239061</td>\n",
              "      <td>-0.952239</td>\n",
              "      <td>1</td>\n",
              "    </tr>\n",
              "    <tr>\n",
              "      <th>4521</th>\n",
              "      <td>0</td>\n",
              "      <td>1</td>\n",
              "      <td>0</td>\n",
              "      <td>-1</td>\n",
              "      <td>1</td>\n",
              "      <td>0</td>\n",
              "      <td>-0.436342</td>\n",
              "      <td>0.555122</td>\n",
              "      <td>-0.096114</td>\n",
              "      <td>1</td>\n",
              "    </tr>\n",
              "  </tbody>\n",
              "</table>\n",
              "</div>\n",
              "      <button class=\"colab-df-convert\" onclick=\"convertToInteractive('df-c479e39c-5c4c-40ec-ad07-e19312e71c42')\"\n",
              "              title=\"Convert this dataframe to an interactive table.\"\n",
              "              style=\"display:none;\">\n",
              "        \n",
              "  <svg xmlns=\"http://www.w3.org/2000/svg\" height=\"24px\"viewBox=\"0 0 24 24\"\n",
              "       width=\"24px\">\n",
              "    <path d=\"M0 0h24v24H0V0z\" fill=\"none\"/>\n",
              "    <path d=\"M18.56 5.44l.94 2.06.94-2.06 2.06-.94-2.06-.94-.94-2.06-.94 2.06-2.06.94zm-11 1L8.5 8.5l.94-2.06 2.06-.94-2.06-.94L8.5 2.5l-.94 2.06-2.06.94zm10 10l.94 2.06.94-2.06 2.06-.94-2.06-.94-.94-2.06-.94 2.06-2.06.94z\"/><path d=\"M17.41 7.96l-1.37-1.37c-.4-.4-.92-.59-1.43-.59-.52 0-1.04.2-1.43.59L10.3 9.45l-7.72 7.72c-.78.78-.78 2.05 0 2.83L4 21.41c.39.39.9.59 1.41.59.51 0 1.02-.2 1.41-.59l7.78-7.78 2.81-2.81c.8-.78.8-2.07 0-2.86zM5.41 20L4 18.59l7.72-7.72 1.47 1.35L5.41 20z\"/>\n",
              "  </svg>\n",
              "      </button>\n",
              "      \n",
              "  <style>\n",
              "    .colab-df-container {\n",
              "      display:flex;\n",
              "      flex-wrap:wrap;\n",
              "      gap: 12px;\n",
              "    }\n",
              "\n",
              "    .colab-df-convert {\n",
              "      background-color: #E8F0FE;\n",
              "      border: none;\n",
              "      border-radius: 50%;\n",
              "      cursor: pointer;\n",
              "      display: none;\n",
              "      fill: #1967D2;\n",
              "      height: 32px;\n",
              "      padding: 0 0 0 0;\n",
              "      width: 32px;\n",
              "    }\n",
              "\n",
              "    .colab-df-convert:hover {\n",
              "      background-color: #E2EBFA;\n",
              "      box-shadow: 0px 1px 2px rgba(60, 64, 67, 0.3), 0px 1px 3px 1px rgba(60, 64, 67, 0.15);\n",
              "      fill: #174EA6;\n",
              "    }\n",
              "\n",
              "    [theme=dark] .colab-df-convert {\n",
              "      background-color: #3B4455;\n",
              "      fill: #D2E3FC;\n",
              "    }\n",
              "\n",
              "    [theme=dark] .colab-df-convert:hover {\n",
              "      background-color: #434B5C;\n",
              "      box-shadow: 0px 1px 3px 1px rgba(0, 0, 0, 0.15);\n",
              "      filter: drop-shadow(0px 1px 2px rgba(0, 0, 0, 0.3));\n",
              "      fill: #FFFFFF;\n",
              "    }\n",
              "  </style>\n",
              "\n",
              "      <script>\n",
              "        const buttonEl =\n",
              "          document.querySelector('#df-c479e39c-5c4c-40ec-ad07-e19312e71c42 button.colab-df-convert');\n",
              "        buttonEl.style.display =\n",
              "          google.colab.kernel.accessAllowed ? 'block' : 'none';\n",
              "\n",
              "        async function convertToInteractive(key) {\n",
              "          const element = document.querySelector('#df-c479e39c-5c4c-40ec-ad07-e19312e71c42');\n",
              "          const dataTable =\n",
              "            await google.colab.kernel.invokeFunction('convertToInteractive',\n",
              "                                                     [key], {});\n",
              "          if (!dataTable) return;\n",
              "\n",
              "          const docLinkHtml = 'Like what you see? Visit the ' +\n",
              "            '<a target=\"_blank\" href=https://colab.research.google.com/notebooks/data_table.ipynb>data table notebook</a>'\n",
              "            + ' to learn more about interactive tables.';\n",
              "          element.innerHTML = '';\n",
              "          dataTable['output_type'] = 'display_data';\n",
              "          await google.colab.output.renderOutput(dataTable, element);\n",
              "          const docLink = document.createElement('div');\n",
              "          docLink.innerHTML = docLinkHtml;\n",
              "          element.appendChild(docLink);\n",
              "        }\n",
              "      </script>\n",
              "    </div>\n",
              "  </div>\n",
              "  "
            ],
            "text/plain": [
              "      gender  Partner  Dependents  TechSupport  Contract  PaperlessBilling  \\\n",
              "104        1        1           0            1         0                 1   \n",
              "3999       0        0           0           -1         1                 1   \n",
              "4521       0        1           0           -1         1                 0   \n",
              "\n",
              "      SeniorCitizen    tenure  TotalCharges  cluster  \n",
              "104       -0.436342  1.452213      2.365029        0  \n",
              "3999       2.291783 -1.239061     -0.952239        1  \n",
              "4521      -0.436342  0.555122     -0.096114        1  "
            ]
          },
          "execution_count": 85,
          "metadata": {},
          "output_type": "execute_result"
        }
      ],
      "source": [
        "Xtrain.head(3)"
      ]
    },
    {
      "cell_type": "markdown",
      "metadata": {
        "id": "kfVHOidgKSQT"
      },
      "source": [
        "Now that everything from the data exploratory analysis and data wrangling/preprocessing went well, we can jump into Machine Learning modelling without worrying about implementation issues regarding bad practices with features"
      ]
    },
    {
      "cell_type": "code",
      "execution_count": null,
      "metadata": {
        "id": "wxU-LGGlH4F8"
      },
      "outputs": [],
      "source": []
    }
  ],
  "metadata": {
    "colab": {
      "provenance": []
    },
    "kernelspec": {
      "display_name": "Python 3.10.8 ('churn')",
      "language": "python",
      "name": "python3"
    },
    "language_info": {
      "name": "python",
      "version": "3.10.8"
    },
    "vscode": {
      "interpreter": {
        "hash": "abdb85865ef0ed188ad7c2242b2f6c43ee29b6f307d05f40172d98ef5071f904"
      }
    }
  },
  "nbformat": 4,
  "nbformat_minor": 0
}
